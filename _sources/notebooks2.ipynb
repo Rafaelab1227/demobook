{
 "cells": [
  {
   "cell_type": "markdown",
   "metadata": {},
   "source": [
    "# Add-on Nbgrader\n",
    "\n"
   ]
  },
  {
   "cell_type": "markdown",
   "metadata": {},
   "source": [
    "***Nbgrader*** es una herramienta que ayuda en el proceso de creación y calificación de tareas basadas en Jupyter Notebooks.\n",
    "\n",
    "Para su uso es necesario primeramente la creación de una versión del instructor o docente, segundo, la herramienta crea automáticamente la versión del estudiante que deberá ser distribuida o recogida por el instructor; tercero, permite la calificación automática, la calificación manual y la generación de feedback en comentarios visibles para el estudiante.\n",
    "\n",
    "Al integrarlo con JupyterHub se puede distribuir y recoger las tareas automáticamente, el estudiante al ingresar se encontrará en su sesión con todas las tareas asignadas y podrá enviarlas directamente. Al igual, el instructor podrá recibir automáticamente las entregas y calificarlas.  \n",
    "\n",
    "Documentación https://nbgrader.readthedocs.io/en/stable/index.html\n",
    "\n",
    "Este add-on permite que los cuadernos puedan ser calificados automáticamente de forma masiva y al mismo tiempo que sean evaluados manualmente para ajustar puntajes, adicionar comentarios o valorar respuestas abiertas o tasks. La definición de la tarea debe considerar qué tipo de celda constituye cada entrada existiendo varias alternativas:\n",
    "\n",
    "1) **Manually graded answer**: pregunta abierta que permite edición en la misma celda.\n",
    "2) **Manually graded task**: pregunta abierta que no permite edición, esta pensada para definir enunciados de tareas que involucrarán generar más celdas.\n",
    "3) **Read-only**: celdas de lectura.\n",
    "4) **Autograded answer**: definición de la pregunta.\n",
    "5) **Autograded test**: guarda los test tipo ***assert*** o similar para corroborar resultados, aquí se marca el puntaje que obtendrá el alumno, estas no podrán ser editadas por el rol de estudiante.\n",
    "\n",
    "Por ejemplo:"
   ]
  },
  {
   "cell_type": "markdown",
   "metadata": {},
   "source": [
    "### Celda tipo ***Read-only***"
   ]
  },
  {
   "cell_type": "code",
   "execution_count": null,
   "metadata": {},
   "outputs": [],
   "source": [
    "### 1) Create a function to count words in a phrase, the result should be just a number."
   ]
  },
  {
   "cell_type": "markdown",
   "metadata": {},
   "source": [
    "### Celda tipo ***Autograded answer***"
   ]
  },
  {
   "cell_type": "code",
   "execution_count": null,
   "metadata": {},
   "outputs": [],
   "source": [
    "# Definition of the function\n",
    "def myfunction1(phrase):\n",
    "    \n",
    "    ### BEGIN SOLUTION\n",
    "    # Remove spaces and split phrase\n",
    "    return(len(phrase.strip().split(\" \")))\n",
    "    ### END SOLUTION"
   ]
  },
  {
   "cell_type": "markdown",
   "metadata": {},
   "source": [
    "### Celda tipo ***Autograded test***"
   ]
  },
  {
   "cell_type": "code",
   "execution_count": null,
   "metadata": {},
   "outputs": [],
   "source": [
    "# Test the function\n",
    "assert myfunction1(\"La vida no es esperar que pase la tormenta. Es aprender a bailar bajo la lluvia.\")== 16\n",
    "### BEGIN HIDDEN TESTS\n",
    "assert myfunction1(\"Práctica demo nbgrader\") == 3\n",
    "assert myfunction1(\"Práctica demo nbgrader test\") == 4\n",
    "### END HIDDEN TESTS"
   ]
  },
  {
   "cell_type": "markdown",
   "metadata": {},
   "source": [
    "### Celda tipo ***Manually graded task***"
   ]
  },
  {
   "cell_type": "code",
   "execution_count": null,
   "metadata": {},
   "outputs": [],
   "source": [
    "### 4) Create a list of Python data types\n",
    "\n",
    "# YOUR ANSWER BELOW IN ONLY ONE CELL\n",
    "\n",
    "=== BEGIN MARK SCHEME ===\n",
    "\n",
    "Answer :\n",
    "\n",
    "Numeric data types: int, float, complex\n",
    "String data types: str\n",
    "Sequence types: list, tuple, range\n",
    "Binary types: bytes, bytearray, memoryview\n",
    "Mapping data type: dict\n",
    "Boolean type: bool\n",
    "Set data types: set, frozenset\n",
    "\n",
    "=== END MARK SCHEME ==="
   ]
  },
  {
   "cell_type": "markdown",
   "metadata": {},
   "source": [
    "### Video de la presentación oficial de Nbgrader en la conferencia SciPy 2017"
   ]
  },
  {
   "cell_type": "code",
   "execution_count": 5,
   "metadata": {},
   "outputs": [
    {
     "data": {
      "text/html": [
       "<iframe width=\"560\" height=\"315\" src=\"https://www.youtube.com/embed/5WUm0QuJdFw\" title=\"YouTube video player\" frameborder=\"0\" allow=\"accelerometer; autoplay; clipboard-write; encrypted-media; gyroscope; picture-in-picture\" allowfullscreen></iframe>"
      ],
      "text/plain": [
       "<IPython.core.display.HTML object>"
      ]
     },
     "execution_count": 5,
     "metadata": {},
     "output_type": "execute_result"
    }
   ],
   "source": [
    "from IPython.display import HTML\n",
    "\n",
    "# Youtube\n",
    "HTML('<iframe width=\"560\" height=\"315\" src=\"https://www.youtube.com/embed/5WUm0QuJdFw\" title=\"YouTube video player\" frameborder=\"0\" allow=\"accelerometer; autoplay; clipboard-write; encrypted-media; gyroscope; picture-in-picture\" allowfullscreen></iframe>')"
   ]
  }
 ],
 "metadata": {
  "kernelspec": {
   "display_name": "Python 3",
   "language": "python",
   "name": "python3"
  },
  "language_info": {
   "codemirror_mode": {
    "name": "ipython",
    "version": 3
   },
   "file_extension": ".py",
   "mimetype": "text/x-python",
   "name": "python",
   "nbconvert_exporter": "python",
   "pygments_lexer": "ipython3",
   "version": "3.8.5"
  },
  "widgets": {
   "application/vnd.jupyter.widget-state+json": {
    "state": {},
    "version_major": 2,
    "version_minor": 0
   }
  }
 },
 "nbformat": 4,
 "nbformat_minor": 4
}
